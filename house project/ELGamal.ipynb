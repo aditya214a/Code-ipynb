{
 "cells": [
  {
   "cell_type": "code",
   "execution_count": 1,
   "metadata": {},
   "outputs": [],
   "source": [
    "import random  \n",
    "from math import pow"
   ]
  },
  {
   "cell_type": "code",
   "execution_count": 2,
   "metadata": {},
   "outputs": [],
   "source": [
    "a = random.randint(2, 10) \n",
    "  \n",
    "def gcd(a, b): \n",
    "    if a < b: \n",
    "        return gcd(b, a) \n",
    "    elif a % b == 0: \n",
    "        return b; \n",
    "    else: \n",
    "        return gcd(b, a % b) "
   ]
  },
  {
   "cell_type": "code",
   "execution_count": 3,
   "metadata": {},
   "outputs": [],
   "source": [
    "def gen_key(q): \n",
    "  \n",
    "    key = random.randint(pow(10, 20), q) \n",
    "    while gcd(q, key) != 1: \n",
    "        key = random.randint(pow(10, 20), q) \n",
    "  \n",
    "    return key"
   ]
  },
  {
   "cell_type": "code",
   "execution_count": 4,
   "metadata": {},
   "outputs": [],
   "source": [
    "def power(a, b, c): \n",
    "    x = 1\n",
    "    y = a \n",
    "  \n",
    "    while b > 0: \n",
    "        if b % 2 == 0: \n",
    "            x = (x * y) % c; \n",
    "        y = (y * y) % c \n",
    "        b = int(b / 2) \n",
    "  \n",
    "    return x % c "
   ]
  },
  {
   "cell_type": "code",
   "execution_count": 5,
   "metadata": {},
   "outputs": [],
   "source": []
  },
  {
   "cell_type": "code",
   "execution_count": null,
   "metadata": {},
   "outputs": [],
   "source": []
  },
  {
   "cell_type": "code",
   "execution_count": null,
   "metadata": {},
   "outputs": [],
   "source": []
  }
 ],
 "metadata": {
  "kernelspec": {
   "display_name": "Python 3",
   "language": "python",
   "name": "python3"
  },
  "language_info": {
   "codemirror_mode": {
    "name": "ipython",
    "version": 3
   },
   "file_extension": ".py",
   "mimetype": "text/x-python",
   "name": "python",
   "nbconvert_exporter": "python",
   "pygments_lexer": "ipython3",
   "version": "3.7.3"
  }
 },
 "nbformat": 4,
 "nbformat_minor": 2
}
