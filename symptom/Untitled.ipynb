{
 "cells": [
  {
   "cell_type": "code",
   "execution_count": 1,
   "metadata": {},
   "outputs": [],
   "source": [
    "import pandas as pd\n",
    "import numpy as np\n",
    "import matplotlib.pyplot as plt"
   ]
  },
  {
   "cell_type": "code",
   "execution_count": 2,
   "metadata": {},
   "outputs": [],
   "source": [
    "dataset = pd.read_csv('Raw-Data.csv')"
   ]
  },
  {
   "cell_type": "code",
   "execution_count": 3,
   "metadata": {},
   "outputs": [
    {
     "data": {
      "text/html": [
       "<div>\n",
       "<style scoped>\n",
       "    .dataframe tbody tr th:only-of-type {\n",
       "        vertical-align: middle;\n",
       "    }\n",
       "\n",
       "    .dataframe tbody tr th {\n",
       "        vertical-align: top;\n",
       "    }\n",
       "\n",
       "    .dataframe thead th {\n",
       "        text-align: right;\n",
       "    }\n",
       "</style>\n",
       "<table border=\"1\" class=\"dataframe\">\n",
       "  <thead>\n",
       "    <tr style=\"text-align: right;\">\n",
       "      <th></th>\n",
       "      <th>Country</th>\n",
       "      <th>Age</th>\n",
       "      <th>Gender</th>\n",
       "      <th>Symptoms</th>\n",
       "      <th>Experiencing_Symptoms</th>\n",
       "      <th>Severity</th>\n",
       "      <th>Contact</th>\n",
       "    </tr>\n",
       "  </thead>\n",
       "  <tbody>\n",
       "    <tr>\n",
       "      <th>0</th>\n",
       "      <td>China</td>\n",
       "      <td>0-9</td>\n",
       "      <td>Male</td>\n",
       "      <td>Fever,Tiredness,Dry-Cough,Difficulty-in-Breath...</td>\n",
       "      <td>Pains,Nasal-Congestion,Runny-Nose,Diarrhea</td>\n",
       "      <td>Mild</td>\n",
       "      <td>Yes</td>\n",
       "    </tr>\n",
       "    <tr>\n",
       "      <th>1</th>\n",
       "      <td>Italy</td>\n",
       "      <td>10-19</td>\n",
       "      <td>Female</td>\n",
       "      <td>Fever,Tiredness,Dry-Cough,Difficulty-in-Breathing</td>\n",
       "      <td>Pains,Nasal-Congestion,Runny-Nose</td>\n",
       "      <td>Moderate</td>\n",
       "      <td>No</td>\n",
       "    </tr>\n",
       "    <tr>\n",
       "      <th>2</th>\n",
       "      <td>Iran</td>\n",
       "      <td>20-24</td>\n",
       "      <td>Transgender</td>\n",
       "      <td>Fever,Tiredness,Dry-Cough</td>\n",
       "      <td>Pains,Nasal-Congestion</td>\n",
       "      <td>Severe</td>\n",
       "      <td>Dont-Know</td>\n",
       "    </tr>\n",
       "    <tr>\n",
       "      <th>3</th>\n",
       "      <td>Republic of Korean</td>\n",
       "      <td>25-59</td>\n",
       "      <td>NaN</td>\n",
       "      <td>Fever,Tiredness</td>\n",
       "      <td>Pains</td>\n",
       "      <td>None</td>\n",
       "      <td>NaN</td>\n",
       "    </tr>\n",
       "    <tr>\n",
       "      <th>4</th>\n",
       "      <td>France</td>\n",
       "      <td>60+</td>\n",
       "      <td>NaN</td>\n",
       "      <td>Fever</td>\n",
       "      <td>Nasal-Congestion,Runny-Nose,Diarrhea</td>\n",
       "      <td>NaN</td>\n",
       "      <td>NaN</td>\n",
       "    </tr>\n",
       "  </tbody>\n",
       "</table>\n",
       "</div>"
      ],
      "text/plain": [
       "              Country    Age       Gender  \\\n",
       "0               China    0-9         Male   \n",
       "1               Italy  10-19       Female   \n",
       "2                Iran  20-24  Transgender   \n",
       "3  Republic of Korean  25-59          NaN   \n",
       "4              France    60+          NaN   \n",
       "\n",
       "                                            Symptoms  \\\n",
       "0  Fever,Tiredness,Dry-Cough,Difficulty-in-Breath...   \n",
       "1  Fever,Tiredness,Dry-Cough,Difficulty-in-Breathing   \n",
       "2                          Fever,Tiredness,Dry-Cough   \n",
       "3                                    Fever,Tiredness   \n",
       "4                                              Fever   \n",
       "\n",
       "                        Experiencing_Symptoms  Severity    Contact  \n",
       "0  Pains,Nasal-Congestion,Runny-Nose,Diarrhea      Mild        Yes  \n",
       "1           Pains,Nasal-Congestion,Runny-Nose  Moderate         No  \n",
       "2                      Pains,Nasal-Congestion    Severe  Dont-Know  \n",
       "3                                       Pains      None        NaN  \n",
       "4        Nasal-Congestion,Runny-Nose,Diarrhea       NaN        NaN  "
      ]
     },
     "execution_count": 3,
     "metadata": {},
     "output_type": "execute_result"
    }
   ],
   "source": [
    "dataset.head()"
   ]
  },
  {
   "cell_type": "code",
   "execution_count": null,
   "metadata": {},
   "outputs": [],
   "source": []
  }
 ],
 "metadata": {
  "kernelspec": {
   "display_name": "Python 3",
   "language": "python",
   "name": "python3"
  },
  "language_info": {
   "codemirror_mode": {
    "name": "ipython",
    "version": 3
   },
   "file_extension": ".py",
   "mimetype": "text/x-python",
   "name": "python",
   "nbconvert_exporter": "python",
   "pygments_lexer": "ipython3",
   "version": "3.7.3"
  }
 },
 "nbformat": 4,
 "nbformat_minor": 2
}
